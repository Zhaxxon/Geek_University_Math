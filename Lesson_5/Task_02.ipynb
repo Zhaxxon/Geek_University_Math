{
 "cells": [
  {
   "cell_type": "markdown",
   "metadata": {},
   "source": [
    "1. Напишите код, проверяющий любую из теорем сложения или умножения вероятности на примере рулетки или подбрасывания монетки."
   ]
  },
  {
   "cell_type": "code",
   "execution_count": 14,
   "metadata": {},
   "outputs": [
    {
     "name": "stdout",
     "output_type": "stream",
     "text": [
      "0.024\n",
      "0.036\n",
      "0.064\n"
     ]
    }
   ],
   "source": [
    "%matplotlib inline\n",
    "import matplotlib.pyplot as plt\n",
    "import numpy as np\n",
    "import math\n",
    "\n",
    "def rulet_count(value_needed, counts):\n",
    "    a = 0\n",
    "    for i_ in range (0,counts):\n",
    "        x_ = np.random.uniform(0,37)\n",
    "        value_ = math.floor(x_)\n",
    "        if (value_needed == value_):\n",
    "            a += 1\n",
    "    return a\n",
    "\n",
    "def rulet_count_or(value1_needed, value2_needed, counts):\n",
    "    a = 0\n",
    "    for i_ in range (0,counts):\n",
    "        x_ = np.random.uniform(0,37)\n",
    "        value_ = math.floor(x_)\n",
    "        if (value1_needed == value_ or value2_needed == value_):\n",
    "            a += 1\n",
    "    return a\n",
    "\n",
    "def P_rulet(value):\n",
    "    return rulet_count(value,1000)/1000\n",
    "\n",
    "def P_rulet_or(value1, value2):\n",
    "    return rulet_count_or(value1, value2,1000)/1000\n",
    "\n",
    "print(P_rulet(1))\n",
    "print(P_rulet(0))\n",
    "print(P_rulet_or(0,1))"
   ]
  },
  {
   "cell_type": "markdown",
   "metadata": {},
   "source": [
    "2. Сгенерируйте десять выборок случайных чисел х0, …, х9. и постройте гистограмму распределения случайной суммы х0+х1+ …+ х9.\n"
   ]
  },
  {
   "cell_type": "code",
   "execution_count": 28,
   "metadata": {},
   "outputs": [
    {
     "data": {
      "text/plain": [
       "(array([ 15.,  45., 100., 179., 187., 207., 159.,  60.,  38.,  10.]),\n",
       " array([2.6527049 , 3.14650424, 3.64030359, 4.13410294, 4.62790228,\n",
       "        5.12170163, 5.61550097, 6.10930032, 6.60309967, 7.09689901,\n",
       "        7.59069836]),\n",
       " <a list of 10 Patch objects>)"
      ]
     },
     "execution_count": 28,
     "metadata": {},
     "output_type": "execute_result"
    },
    {
     "data": {
      "image/png": "[encoded data removed]",
      "text/plain": [
       "<Figure size 432x288 with 1 Axes>"
      ]
     },
     "metadata": {
      "needs_background": "light"
     },
     "output_type": "display_data"
    }
   ],
   "source": [
    "x0 = np.random.rand(1000)\n",
    "x1 = np.random.rand(1000)\n",
    "x2 = np.random.rand(1000)\n",
    "x3 = np.random.rand(1000)\n",
    "x4 = np.random.rand(1000)\n",
    "x5 = np.random.rand(1000)\n",
    "x6 = np.random.rand(1000)\n",
    "x7 = np.random.rand(1000)\n",
    "x8 = np.random.rand(1000)\n",
    "x9 = np.random.rand(1000)\n",
    "x_sum = x0+x1+x2+x3+x4+x5+x6+x7+x8+x9\n",
    "\n",
    "x_sum\n",
    "plt.hist(x_sum, 10)"
   ]
  }
 ],
 "metadata": {
  "kernelspec": {
   "display_name": "Python 3",
   "language": "python",
   "name": "python3"
  },
  "language_info": {
   "codemirror_mode": {
    "name": "ipython",
    "version": 3
   },
   "file_extension": ".py",
   "mimetype": "text/x-python",
   "name": "python",
   "nbconvert_exporter": "python",
   "pygments_lexer": "ipython3",
   "version": "3.7.4"
  }
 },
 "nbformat": 4,
 "nbformat_minor": 2
}
